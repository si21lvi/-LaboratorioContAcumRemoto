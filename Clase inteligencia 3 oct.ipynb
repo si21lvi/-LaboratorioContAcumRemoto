{
  "nbformat": 4,
  "nbformat_minor": 0,
  "metadata": {
    "colab": {
      "provenance": [],
      "authorship_tag": "ABX9TyNMWTZwuapt52ANk7ULx2hX",
      "include_colab_link": true
    },
    "kernelspec": {
      "name": "python3",
      "display_name": "Python 3"
    },
    "language_info": {
      "name": "python"
    }
  },
  "cells": [
    {
      "cell_type": "markdown",
      "metadata": {
        "id": "view-in-github",
        "colab_type": "text"
      },
      "source": [
        "<a href=\"https://colab.research.google.com/github/si21lvi/-LaboratorioContAcumRemoto/blob/master/Clase%20inteligencia%203%20oct.ipynb\" target=\"_parent\"><img src=\"https://colab.research.google.com/assets/colab-badge.svg\" alt=\"Open In Colab\"/></a>"
      ]
    },
    {
      "cell_type": "code",
      "execution_count": 1,
      "metadata": {
        "colab": {
          "base_uri": "https://localhost:8080/"
        },
        "id": "Y3R7vHt9pNFa",
        "outputId": "bec7161d-c817-4941-83b7-47ec6d421ab3"
      },
      "outputs": [
        {
          "output_type": "stream",
          "name": "stdout",
          "text": [
            "Looking in indexes: https://pypi.org/simple, https://us-python.pkg.dev/colab-wheels/public/simple/\n",
            "Collecting wfdb\n",
            "  Downloading wfdb-4.0.0-py3-none-any.whl (161 kB)\n",
            "\u001b[K     |████████████████████████████████| 161 kB 5.2 MB/s \n",
            "\u001b[?25hRequirement already satisfied: requests<3.0.0,>=2.8.1 in /usr/local/lib/python3.7/dist-packages (from wfdb) (2.23.0)\n",
            "Requirement already satisfied: numpy<2.0.0,>=1.10.1 in /usr/local/lib/python3.7/dist-packages (from wfdb) (1.21.6)\n",
            "Requirement already satisfied: matplotlib<4.0.0,>=3.2.2 in /usr/local/lib/python3.7/dist-packages (from wfdb) (3.2.2)\n",
            "Requirement already satisfied: scipy<2.0.0,>=1.0.0 in /usr/local/lib/python3.7/dist-packages (from wfdb) (1.7.3)\n",
            "Requirement already satisfied: pandas<2.0.0,>=1.0.0 in /usr/local/lib/python3.7/dist-packages (from wfdb) (1.3.5)\n",
            "Requirement already satisfied: SoundFile<0.12.0,>=0.10.0 in /usr/local/lib/python3.7/dist-packages (from wfdb) (0.10.3.post1)\n",
            "Requirement already satisfied: cycler>=0.10 in /usr/local/lib/python3.7/dist-packages (from matplotlib<4.0.0,>=3.2.2->wfdb) (0.11.0)\n",
            "Requirement already satisfied: pyparsing!=2.0.4,!=2.1.2,!=2.1.6,>=2.0.1 in /usr/local/lib/python3.7/dist-packages (from matplotlib<4.0.0,>=3.2.2->wfdb) (3.0.9)\n",
            "Requirement already satisfied: python-dateutil>=2.1 in /usr/local/lib/python3.7/dist-packages (from matplotlib<4.0.0,>=3.2.2->wfdb) (2.8.2)\n",
            "Requirement already satisfied: kiwisolver>=1.0.1 in /usr/local/lib/python3.7/dist-packages (from matplotlib<4.0.0,>=3.2.2->wfdb) (1.4.4)\n",
            "Requirement already satisfied: typing-extensions in /usr/local/lib/python3.7/dist-packages (from kiwisolver>=1.0.1->matplotlib<4.0.0,>=3.2.2->wfdb) (4.1.1)\n",
            "Requirement already satisfied: pytz>=2017.3 in /usr/local/lib/python3.7/dist-packages (from pandas<2.0.0,>=1.0.0->wfdb) (2022.2.1)\n",
            "Requirement already satisfied: six>=1.5 in /usr/local/lib/python3.7/dist-packages (from python-dateutil>=2.1->matplotlib<4.0.0,>=3.2.2->wfdb) (1.15.0)\n",
            "Requirement already satisfied: urllib3!=1.25.0,!=1.25.1,<1.26,>=1.21.1 in /usr/local/lib/python3.7/dist-packages (from requests<3.0.0,>=2.8.1->wfdb) (1.24.3)\n",
            "Requirement already satisfied: chardet<4,>=3.0.2 in /usr/local/lib/python3.7/dist-packages (from requests<3.0.0,>=2.8.1->wfdb) (3.0.4)\n",
            "Requirement already satisfied: idna<3,>=2.5 in /usr/local/lib/python3.7/dist-packages (from requests<3.0.0,>=2.8.1->wfdb) (2.10)\n",
            "Requirement already satisfied: certifi>=2017.4.17 in /usr/local/lib/python3.7/dist-packages (from requests<3.0.0,>=2.8.1->wfdb) (2022.6.15)\n",
            "Requirement already satisfied: cffi>=1.0 in /usr/local/lib/python3.7/dist-packages (from SoundFile<0.12.0,>=0.10.0->wfdb) (1.15.1)\n",
            "Requirement already satisfied: pycparser in /usr/local/lib/python3.7/dist-packages (from cffi>=1.0->SoundFile<0.12.0,>=0.10.0->wfdb) (2.21)\n",
            "Installing collected packages: wfdb\n",
            "Successfully installed wfdb-4.0.0\n"
          ]
        }
      ],
      "source": [
        "pip install wfdb"
      ]
    },
    {
      "cell_type": "code",
      "source": [
        "import wfdb"
      ],
      "metadata": {
        "id": "w3I69fMVpZmE"
      },
      "execution_count": 2,
      "outputs": []
    },
    {
      "cell_type": "markdown",
      "source": [
        "frecuencia de muestreo: Cant datos que esta tomando por seg\n",
        "dat: tiene toda la infomracion de la señal "
      ],
      "metadata": {
        "id": "Ikjr0Ee3ryBY"
      }
    },
    {
      "cell_type": "code",
      "source": [
        "PEPITO= wfdb.rdrecord('DATABASE/100')\n",
        "print(PEPITO)\n",
        "\n",
        "#amplitud de la señal\n",
        "signals= PEPITO.p_signal\n",
        "print(signals)\n",
        "\n",
        "\n",
        "wfdb.plot_wfdb(PEPITO)"
      ],
      "metadata": {
        "colab": {
          "base_uri": "https://localhost:8080/",
          "height": 434
        },
        "id": "j9XAdGCEpaiE",
        "outputId": "3454362b-f982-414b-9c8e-35d0b33bb1be"
      },
      "execution_count": 7,
      "outputs": [
        {
          "output_type": "stream",
          "name": "stdout",
          "text": [
            "<wfdb.io.record.Record object at 0x7f70940098d0>\n",
            "[[-0.145 -0.065]\n",
            " [-0.145 -0.065]\n",
            " [-0.145 -0.065]\n",
            " ...\n",
            " [-0.675 -0.365]\n",
            " [-0.765 -0.335]\n",
            " [-1.28   0.   ]]\n"
          ]
        },
        {
          "output_type": "display_data",
          "data": {
            "text/plain": [
              "<Figure size 432x288 with 2 Axes>"
            ],
            "image/png": "[encoded data removed]"
          },
          "metadata": {
            "needs_background": "light"
          }
        }
      ]
    },
    {
      "cell_type": "code",
      "source": [
        "atr: contenedor de tipo anotaciones\n",
        "Es para sacar muestras por anotaciones  "
      ],
      "metadata": {
        "id": "bWfF46PKs5Aa"
      },
      "execution_count": null,
      "outputs": []
    },
    {
      "cell_type": "code",
      "source": [
        "ann= wfdb.rdann('DATABASE/100','atr')\n",
        "print(ann)\n",
        "#ubicacion en terminos de muestra, el primer latido se encuentra en la muestra 18 del archivo que cargamos\n",
        "anotation=ann.sample\n",
        "print(anotation)"
      ],
      "metadata": {
        "colab": {
          "base_uri": "https://localhost:8080/"
        },
        "id": "HEj4AvnsqEtG",
        "outputId": "47d153bd-3c8c-4349-918c-8f7969c22a94"
      },
      "execution_count": 9,
      "outputs": [
        {
          "output_type": "stream",
          "name": "stdout",
          "text": [
            "<wfdb.io.annotation.Annotation object at 0x7f7093a61f50>\n",
            "[    18     77    370 ... 649484 649734 649991]\n"
          ]
        }
      ]
    },
    {
      "cell_type": "code",
      "source": [
        "pepito= wfdb.rdrecord('DATABASE/100','dat')\n",
        "signals= PEPITO.p_signal\n",
        "dato1=signals[0]\n",
        "for i in range(dato1, )\n",
        "anni= wfdb.rdann('DATABASE/100','atr')\n"
      ],
      "metadata": {
        "id": "oqMb5YnS0oFu"
      },
      "execution_count": null,
      "outputs": []
    },
    {
      "cell_type": "code",
      "source": [],
      "metadata": {
        "id": "osFW9Et10n92"
      },
      "execution_count": null,
      "outputs": []
    },
    {
      "cell_type": "markdown",
      "source": [
        "Se tienes dos dinámicas: Categorías --> \n",
        "Evento de interés \n",
        "Evento de no interés\n",
        "\n",
        "N muestras --> puede variar depende del programador \n",
        "Tenemos ubicación de lo que es --> si es un latido \n",
        "En cada latido una ventana de información en la base de datos --> evento de interés \n",
        "\n",
        "Lo que no es latido va desde  el final de la ventana de un latido hasta el principio del otro latido de la ventana\n",
        "\n",
        "Para evitar que en el no es coja parte del latido se corre un poco a la izquierda y derecha del principio y el final de ventana. \n",
        "\n",
        "\n",
        "Nota: Más registros en no latido \n",
        "Sesgar \n",
        "\n",
        "Empezar con 100 \n",
        "total 650.000 Segundos 1800 -->  361.1 \n",
        "de a 100 datos 100*361.1 = 36100 muestras \n"
      ],
      "metadata": {
        "id": "hKwewVOTt1CO"
      }
    }
  ]
}